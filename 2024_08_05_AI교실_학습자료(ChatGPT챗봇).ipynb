{
  "cells": [
    {
      "cell_type": "markdown",
      "metadata": {
        "id": "CJi6rzbn6QMh"
      },
      "source": [
        "# ChatGPT 프롬프팅(Prompting) 배워보기\n",
        "\n",
        "이번 실습에서는 **프롬프트 엔지니어링(Prompt Engineering)**에 대해 배워봅시다."
      ]
    },
    {
      "cell_type": "markdown",
      "metadata": {
        "id": "vUW5ajDa60vv"
      },
      "source": [
        "## 프롬프트 엔지니어링이란?\n",
        "\n",
        "**프롬프트 엔지니어링**은 인공지능(AI)에게 질문을 하거나 명령을 내릴 때, AI가 원하는 대답을 잘 할 수 있도록 질문을 잘 만드는 과정입니다.\n",
        "\n",
        "먼저 ChatGPT 사이트에서 ChatGPT와 익숙해지는 시간을 가져봅시다."
      ]
    },
    {
      "cell_type": "markdown",
      "metadata": {
        "id": "81j_nUKS7xSC"
      },
      "source": [
        "\n",
        "## ChatGPT와 대화해 보기\n",
        "\n",
        "ChatGPT 공식사이트 : [ChatGPT 바로가기](https://chatgpt.com/)"
      ]
    },
    {
      "cell_type": "markdown",
      "metadata": {
        "id": "QpVfTrI780tU"
      },
      "source": [
        "## 실습1 (ChatGPT로 속담 구현하보기)\n",
        "\n",
        "앞 시간에 `while`문을 사용하여 `10번 찍어 안넘어가는 나무 없다`를 코드로 구현해 보셨을 것입니다. 이번에는 ChatGPT를 사용하여 위의 속담의 코드를 답변 받아서 아래에 실행시켜봅시다."
      ]
    },
    {
      "cell_type": "markdown",
      "metadata": {
        "id": "OXOosaHH9yjt"
      },
      "source": [
        "### 문제\n",
        "\n",
        "\n",
        "> 도끼질을 **10번**을 하면 쓰러지는 나무가 있다고 가정합시다. `while`을 사용하여 나무가 쓰러질 때까지 `🪓`가 출력되도록 해봅시다. 또한 나무가 쓰러지면 `🌳`가 출력되도록 해봅시다."
      ]
    },
    {
      "cell_type": "code",
      "execution_count": null,
      "metadata": {
        "id": "dPcwPgO69oDv"
      },
      "outputs": [],
      "source": [
        "# 실습 1"
      ]
    },
    {
      "cell_type": "markdown",
      "metadata": {
        "id": "ywr4nTN4-XMM"
      },
      "source": [
        "## 프롬프트 엔지니어링 기술 배워보기"
      ]
    },
    {
      "cell_type": "markdown",
      "metadata": {
        "id": "pYkgn9QdSndq"
      },
      "source": [
        "### 1. 역활 지정 (Role Play)\n",
        "대화를 시작할 때 AI에게 특정 역할을 부여하는 기법입니다. 예를 들어, \"당신은 요리 전문가입니다.\" 라고 시작하는 것으로 AI에게 명확한 역할을 제시하고, 해당 역할에 맞는 답변을 유도합니다.\n",
        "\n",
        "> \"당신은 요리 전문가입니다. 초보 주부들을 위한 간단한 저녁 레시피를 작성해주세요.\"\n",
        "\n",
        "### 2. 목표 설정 (Set the Goal)\n",
        "프롬프트에 구체적인 목표를 설정하는 기법입니다. 무엇을 달성하고 싶은지 AI에게 정확히 알려주면, AI는 그 목표를 달성하기 위해 최적화된 답변을 제공할 수 있습니다.\n",
        "\n",
        "> \"5분 내로 읽을 수 있는, 초보자도 이해할 수 있는 풋살 룰 설명서를 작성해주세요.\"\n",
        "\n",
        "### 3. 맥락 추가 하기 (Add Context)\n",
        "맥락은 ChatGPT를 효과적으로 안내하는 기법입니다. 맥락은 ChatGPT가 여러분의 요구를 더 잘 이해하고 사용자가 원하는 상황에 맞는 맞춤형 응답을 제공하게 합니다.\n",
        "\n",
        "> \"최근 내 블로그를 위한 콘텐츠를 개선하려고 합니다. 디지털 마케팅에 초점을 맞춘 기사를 작성해주세요. 대상 독자는 중소기업입니다.\"\n",
        "\n",
        "### 4. 지시 설정 (Start with Action Words)\n",
        "\"생성해주세요\", \"작성해주세요\", \"설명해주세요\"와 같이 명확한 동작 지향적 단어로 프롬프트를 시작하는 기법입니다. 동작 기반 프롬프트는 구체적이고 실행 가능한 응답을 산출하는 경향이 있습니다.\n",
        "\n",
        "> \"최신 웹 개발 트렌드에 대해 설명해주세요.\"\n",
        "\n",
        "### 5. 명확하고 구체적인 요청 (Be Clear and Specific)\n",
        "애매한 프롬프트는 그만큼 애매한 응답을 낳습니다. 명확하고 구체적인 요청 기법은 요청이 간결하고 구체적인지 확인합니다.\n",
        "\n",
        "> \"2024년 디지털 마케팅 전략에 대한 500단어 기사를 작성해주세요. 특히 SEO와 소셜 미디어 마케팅에 중점을 둡니다.\"\n",
        "\n",
        "### 6. 예시 사용 (Use Examples)\n",
        "기대하는 바를 명확히 전달하기 위해 프롬프트 내에 예시를 제공합니다. 유사한 스타일을 따라 달라고 요청하면서 샘플 문단이나 문장을 공유합니다.\n",
        "\n",
        "> \"다음 문단의 스타일로 기업가 정신에 대한 블로그 포스트를 작성해주세요: '기업가 정신은 단순히 비즈니스를 시작하는 것 이상의 의미를 가집니다...'\"\n",
        "\n",
        "### 7. 제약 사항 설정 (Guide the AI with Constraints)\n",
        "응답에 포함시키거나 피해야 할 것, 하지 말아야 할것을 명시하는 것은 좋은 결과를 이끌어내는데 도움이 됩니다.\n",
        "\n",
        "> \"인공 지능의 윤리적 사용에 관한 기사를 작성해주세요. 단, 특정 기술 회사의 비판은 피해야 합니다.\"\n",
        "\n",
        "### 8. 길이 설정 (Specify Length)\n",
        "필요한 응답 길이를 언급합니다. 간결한 답변, 문단, 상세한 에세이 등 원하는 출력의 길이를 지정하면 적절한 결과를 받을 수 있습니다.\n",
        "\n",
        "> \"150단어 내로 요약된, AI 기술의 최신 발전에 대해 설명해주세요.\"\n",
        "\n",
        "### 9. 톤 지정 (Clarify the Tone)\n",
        "특정 톤을 요구하는 콘텐츠라면 프롬프트에 명확히 명시합니다. 공식 보고서, 비공식 블로그 포스트, 유머러스한 응답 등 톤을 지정하면 ChatGPT가 의도한 스타일에 맞춰 조정됩니다.\n",
        "\n",
        "> \"친근하고 유머러스한 톤으로 '집에서 할 수 있는 운동'에 대한 글을 작성해주세요.\"\n",
        "\n",
        "### 10. 결과값 지정 (Output Indicator)\n",
        "원하는 결과물의 형식을 명시합니다. 예를 들어, 특정 형식의 문서, 표, 목록 등을 요청할 수 있습니다. 텍스트 뿐만 아니라 이미지, 코드 작성 등 다양한 형식을 지정할 수 있습니다. 결과값의 예시를 제공 하여 원하는 출력 값을 명확히 전달 할수도 있습니다.\n",
        "\n",
        "> \"최신 디지털 마케팅 트렌드에 대한 5가지 예시를 표 형태로 제공해주세요.\""
      ]
    },
    {
      "cell_type": "markdown",
      "metadata": {
        "id": "T2DPJWA0WcO3"
      },
      "source": [
        "## ChatGPT API를 활용한 나만의 챗봇 만들기\n",
        "\n",
        "[ChatGPT API Key발급](https://platform.openai.com/api-keys)\n",
        "\n",
        "ChatGPT를 활용하여 나만의 챗봇을 만들기 위해서는 ChatGPT의 Key를 발급받아야합니다.\n",
        "\n",
        "**주의:** 발급 받은 키는 타인에게 공유되면 안되니 주의하세요."
      ]
    },
    {
      "cell_type": "markdown",
      "metadata": {
        "id": "4MipX292XrLM"
      },
      "source": [
        "### ChatGPT API를 사용하기 위해 openai 모듈을 설치합시다. (버전의 호환성을 위해 이번 실습에서는 gpt-3.5-turbo 모델을 사용하였습니다.)"
      ]
    },
    {
      "cell_type": "code",
      "execution_count": 4,
      "metadata": {
        "colab": {
          "base_uri": "https://localhost:8080/"
        },
        "id": "hF_HTvB2v_LT",
        "outputId": "9644fe12-a9dd-42c3-cfbe-537a497577da"
      },
      "outputs": [
        {
          "name": "stdout",
          "output_type": "stream",
          "text": [
            "Collecting openai==0.28.0\n",
            "  Downloading openai-0.28.0-py3-none-any.whl.metadata (13 kB)\n",
            "Requirement already satisfied: requests>=2.20 in /usr/local/lib/python3.10/dist-packages (from openai==0.28.0) (2.31.0)\n",
            "Requirement already satisfied: tqdm in /usr/local/lib/python3.10/dist-packages (from openai==0.28.0) (4.66.4)\n",
            "Requirement already satisfied: aiohttp in /usr/local/lib/python3.10/dist-packages (from openai==0.28.0) (3.9.5)\n",
            "Requirement already satisfied: charset-normalizer<4,>=2 in /usr/local/lib/python3.10/dist-packages (from requests>=2.20->openai==0.28.0) (3.3.2)\n",
            "Requirement already satisfied: idna<4,>=2.5 in /usr/local/lib/python3.10/dist-packages (from requests>=2.20->openai==0.28.0) (3.7)\n",
            "Requirement already satisfied: urllib3<3,>=1.21.1 in /usr/local/lib/python3.10/dist-packages (from requests>=2.20->openai==0.28.0) (2.0.7)\n",
            "Requirement already satisfied: certifi>=2017.4.17 in /usr/local/lib/python3.10/dist-packages (from requests>=2.20->openai==0.28.0) (2024.7.4)\n",
            "Requirement already satisfied: aiosignal>=1.1.2 in /usr/local/lib/python3.10/dist-packages (from aiohttp->openai==0.28.0) (1.3.1)\n",
            "Requirement already satisfied: attrs>=17.3.0 in /usr/local/lib/python3.10/dist-packages (from aiohttp->openai==0.28.0) (23.2.0)\n",
            "Requirement already satisfied: frozenlist>=1.1.1 in /usr/local/lib/python3.10/dist-packages (from aiohttp->openai==0.28.0) (1.4.1)\n",
            "Requirement already satisfied: multidict<7.0,>=4.5 in /usr/local/lib/python3.10/dist-packages (from aiohttp->openai==0.28.0) (6.0.5)\n",
            "Requirement already satisfied: yarl<2.0,>=1.0 in /usr/local/lib/python3.10/dist-packages (from aiohttp->openai==0.28.0) (1.9.4)\n",
            "Requirement already satisfied: async-timeout<5.0,>=4.0 in /usr/local/lib/python3.10/dist-packages (from aiohttp->openai==0.28.0) (4.0.3)\n",
            "Downloading openai-0.28.0-py3-none-any.whl (76 kB)\n",
            "\u001b[2K   \u001b[90m━━━━━━━━━━━━━━━━━━━━━━━━━━━━━━━━━━━━━━━━\u001b[0m \u001b[32m76.5/76.5 kB\u001b[0m \u001b[31m904.7 kB/s\u001b[0m eta \u001b[36m0:00:00\u001b[0m\n",
            "\u001b[?25hInstalling collected packages: openai\n",
            "Successfully installed openai-0.28.0\n"
          ]
        }
      ],
      "source": [
        "# openai 모듈 설치 (버전 0.28.0)\n",
        "!pip install openai==0.28.0"
      ]
    },
    {
      "cell_type": "code",
      "execution_count": 1,
      "metadata": {
        "id": "KVvKXbSVwVF1"
      },
      "outputs": [],
      "source": [
        "import openai\n",
        "\n",
        "openai.api_key = \"api키를 입력하세요\""
      ]
    },
    {
      "cell_type": "markdown",
      "metadata": {
        "id": "O89MOacaZ6k_"
      },
      "source": [
        "### AI 모델의 행동을 설정하기 위해 프롬프트를 입력하는 코드입니다.\n",
        "> {\"role\": \"system\", \"content\": \" \"}\n",
        "\n",
        "### 사용자가 입력하는 메세지를 입력하는 코드입니다.\n",
        "> {\"role\": \"user\", \"content\": \" \"}"
      ]
    },
    {
      "cell_type": "code",
      "execution_count": 4,
      "metadata": {
        "id": "ffMdQXuMwn9H"
      },
      "outputs": [],
      "source": [
        "def chat_with_gpt(prompt):\n",
        "  response = openai.ChatCompletion.create(\n",
        "      model=\"gpt-4\",  # 또는 사용하려는 다른 모델 이름\n",
        "      messages=[\n",
        "          {\"role\": \"system\", \"content\": \"너는 과일의 색상을 알려주는 챗봇이야 사용자가 말하는 과일의 색깔을 '그것은 ...색입니다' 로 답변해줘\"}, # AI 모델의 행동을 설정\n",
        "          {\"role\": \"user\", \"content\": f\"{prompt}\"} # 사용자가 입력하는 메세지\n",
        "      ]\n",
        "  )\n",
        "\n",
        "    # API로부터 생성된 응답 추출\n",
        "  return response['choices'][0]['message']['content']"
      ]
    },
    {
      "cell_type": "code",
      "execution_count": 5,
      "metadata": {
        "colab": {
          "base_uri": "https://localhost:8080/"
        },
        "id": "bmULe5eMwsG3",
        "outputId": "82d4839f-a985-485d-d4df-2656041dc6ef"
      },
      "outputs": [
        {
          "name": "stdout",
          "output_type": "stream",
          "text": [
            "챗봇: 그것은 빨간색입니다.\n"
          ]
        }
      ],
      "source": [
        "# 사용자 입력 받기\n",
        "user_input = input(\"사용자: \")\n",
        "\n",
        "# 챗봇 응답 출력\n",
        "bot_response = chat_with_gpt(user_input)\n",
        "print(\"챗봇:\", bot_response)"
      ]
    },
    {
      "cell_type": "markdown",
      "metadata": {
        "id": "-55nXv3WcIyi"
      },
      "source": [
        "## 실습해보기\n",
        "\n",
        "위의 코드를 보고 자신만의 챗봇을 만들어봅시다!"
      ]
    },
    {
      "cell_type": "code",
      "execution_count": 6,
      "metadata": {
        "id": "qWq4WHcmcsOZ"
      },
      "outputs": [],
      "source": [
        "def chat_with_gpt(prompt):\n",
        "  response = openai.ChatCompletion.create(\n",
        "      model=\"gpt-4\",\n",
        "      messages=[\n",
        "          {\"role\": \"system\", \"content\": \"\"}, # AI 모델의 행동을 설정\n",
        "          {\"role\": \"user\", \"content\": f\"{prompt}\"} # 사용자가 입력하는 메세지\n",
        "      ]\n",
        "  )\n",
        "\n",
        "    # API로부터 생성된 응답 추출\n",
        "  return response['choices'][0]['message']['content']"
      ]
    },
    {
      "cell_type": "code",
      "execution_count": 7,
      "metadata": {
        "id": "mxoAqu3IczFr"
      },
      "outputs": [
        {
          "name": "stdout",
          "output_type": "stream",
          "text": [
            "챗봇: Hello! How can I assist you today?\n"
          ]
        }
      ],
      "source": [
        "# 사용자 입력 받기\n",
        "user_input = input(\"사용자: \")\n",
        "\n",
        "# 챗봇 응답 출력\n",
        "bot_response = chat_with_gpt(user_input)\n",
        "print(\"챗봇:\", bot_response)"
      ]
    },
    {
      "cell_type": "markdown",
      "metadata": {
        "id": "x0XbRPdcc_6C"
      },
      "source": [
        "# 수고하셨습니다~"
      ]
    }
  ],
  "metadata": {
    "colab": {
      "provenance": []
    },
    "kernelspec": {
      "display_name": "Python 3",
      "name": "python3"
    },
    "language_info": {
      "codemirror_mode": {
        "name": "ipython",
        "version": 3
      },
      "file_extension": ".py",
      "mimetype": "text/x-python",
      "name": "python",
      "nbconvert_exporter": "python",
      "pygments_lexer": "ipython3",
      "version": "3.9.19"
    }
  },
  "nbformat": 4,
  "nbformat_minor": 0
}

{
 "cells": [
  {
   "cell_type": "markdown",
   "metadata": {},
   "source": [
    "# 파이썬(Python) 기초 배워보기\n",
    "이번 실습에서는 파이썬의 기본인 **상수**와 **변수**, **반복문**, **조건문**에 대해 배워봅시다."
   ]
  },
  {
   "cell_type": "markdown",
   "metadata": {},
   "source": [
    "## 상수와 변수\n",
    "파이썬을 포함한 모든 코딩언어(프로그래밍 언어)의 기본인 상수와 변수에 대해 알아봅시다. \n",
    "\n",
    "먼저 아래의 코드를 실행해봅시다."
   ]
  },
  {
   "cell_type": "code",
   "execution_count": 2,
   "metadata": {},
   "outputs": [
    {
     "name": "stdout",
     "output_type": "stream",
     "text": [
      "10\n"
     ]
    }
   ],
   "source": [
    "var = 10\n",
    "print(10)"
   ]
  },
  {
   "cell_type": "code",
   "execution_count": 3,
   "metadata": {},
   "outputs": [
    {
     "name": "stdout",
     "output_type": "stream",
     "text": [
      "11\n"
     ]
    }
   ],
   "source": [
    "a = 4\n",
    "b = 7\n",
    "print(a + b)"
   ]
  },
  {
   "cell_type": "markdown",
   "metadata": {},
   "source": [
    "**위에서 실행한 결과를 기반으로 이해해봅시다.**\n",
    "\n",
    "<img src = \"./img/변수_이미지1.png\" width = 50%>\n",
    "\n",
    "* **10** 이라는 **숫자** 혹은 **문자**와 같은 값 자체를 **상수**라고 합니다. \n",
    "* 이러한 상수가 저장된 공간인 var는 변수라고 합니다. \n",
    "* 따라서 `var = 10`은 var라는 변수에 10을 할당(저장)하라는 의미입니다. \n",
    "* `print()`는 결과물을 출력하는 함수로써, var라는 변수의 상수를 출력합니다."
   ]
  },
  {
   "cell_type": "markdown",
   "metadata": {},
   "source": [
    "### 실습 1 (원하는 문자를 출력해보기)"
   ]
  },
  {
   "cell_type": "markdown",
   "metadata": {},
   "source": [
    "학생들이 원하는 문자를 `a`라는 변수에 저장하여 `print()`를 통해 출력해봅시다! "
   ]
  },
  {
   "cell_type": "code",
   "execution_count": 4,
   "metadata": {},
   "outputs": [],
   "source": [
    "# 실습 1"
   ]
  },
  {
   "cell_type": "markdown",
   "metadata": {},
   "source": [
    "### 실습 2 (원하는 숫자를 계산하여 출력해보기)\n",
    "원하는 숫자를 2개의 변수에 저장하여 간단한 계산을 해봅시다.\n",
    "* `+`: 덧셈\n",
    "* `-`: 뺄셈\n",
    "* `*`: 곱셈\n",
    "* `/`: 나눗셈"
   ]
  },
  {
   "cell_type": "code",
   "execution_count": 5,
   "metadata": {},
   "outputs": [],
   "source": [
    "# 실습 2"
   ]
  },
  {
   "cell_type": "markdown",
   "metadata": {},
   "source": [
    "### 퀴즈 1\n",
    "\n",
    "문제 1. 다음 중 올바른 파이썬 코드는 무엇일까요?\n",
    "1. `var a = 12`\n",
    "2. `a = 12`\n",
    "3. `a: 12`\n",
    "4. `12 = a`\n",
    "\n",
    "문제 2. 아래의 코드를 실행할 경우 어떤 결과가 출력될까요?\n",
    "\n",
    "> num1 = 7  \n",
    "num2 = 5  \n",
    "print(num1 * num2)\n",
    "\n",
    "1. `35`\n",
    "2. `1.4`\n",
    "3. `12`\n",
    "4. `2`"
   ]
  },
  {
   "cell_type": "markdown",
   "metadata": {},
   "source": [
    "## 조건문 (if, else)"
   ]
  },
  {
   "cell_type": "markdown",
   "metadata": {},
   "source": [
    "**조건문 : 조건을 충족할 때에만 선택적으로 실행되는 명령어**\n",
    "\n",
    "### if문\n",
    "\n",
    "```\n",
    "조건 A를 충족할 때에만\n",
    "B해라\n",
    "\n",
    "예) 성인일 때에만 밤 10시 이후 PC방을 이용해라 \n",
    "```\n",
    "\n",
    "<img src = './img/조건문_이미지1.png' width=500>\n",
    "\n",
    "예) 를 코드로 구현해 봅시다."
   ]
  },
  {
   "cell_type": "code",
   "execution_count": 6,
   "metadata": {},
   "outputs": [
    {
     "name": "stdout",
     "output_type": "stream",
     "text": [
      "밤 10시 이후 PC방을 이용할 수 없습니다.\n"
     ]
    }
   ],
   "source": [
    "age = 13\n",
    "\n",
    "if age < 20 : \n",
    "    print('밤 10시 이후 PC방을 이용할 수 없습니다.')"
   ]
  },
  {
   "cell_type": "markdown",
   "metadata": {},
   "source": [
    "<img src = './img/조건문_이미지2.png' width =800>"
   ]
  },
  {
   "cell_type": "markdown",
   "metadata": {},
   "source": [
    "### if-else문\n",
    "\n",
    "조건을 충족하지 않을 때 실행하는 명령어\n",
    "\n",
    "\n",
    "```\n",
    "만약 조건 A라면, \n",
    "    B해라\n",
    "그렇지 않으면,\n",
    "    C해라\n",
    "```\n",
    "\n",
    "<img src = './img/조건문_이미지3.png' width=400> "
   ]
  },
  {
   "cell_type": "code",
   "execution_count": 7,
   "metadata": {},
   "outputs": [
    {
     "name": "stdout",
     "output_type": "stream",
     "text": [
      "어서오세요 손님.\n"
     ]
    }
   ],
   "source": [
    "age = 27\n",
    "\n",
    "if age < 20 : \n",
    "    print('밤 10시 이후 PC방을 이용할 수 없습니다.')\n",
    "else : \n",
    "    print('어서오세요 손님.')"
   ]
  },
  {
   "cell_type": "markdown",
   "metadata": {},
   "source": [
    "### elif 조건문\n",
    "\n",
    "<img src='./img/조건문_이미지4.png' width=400>"
   ]
  },
  {
   "cell_type": "markdown",
   "metadata": {},
   "source": [
    "### 실습3 (롤러코스터 탑승)\n",
    "\n",
    "에버랜드에서 롤러코스터에는 줄이 너무 깁니다.\n",
    "\n",
    "따라서 손님들이 키(cm)를 입력하면 탑승이 가능한지 불가능한지 알려주는 시스템을 만드려고 합니다.\n",
    "\n",
    "아래의 조건에 맞게 시스템을 만들어봅시다.\n",
    "\n",
    "* 140cm 이상의 손님의 경우 \"롤러코스터에 탈 수 있습니다.\" 를 출력\n",
    "* 140cm 보다는 작지만 120cm 이상일 경우 \"보호자 동반 시 롤러코스터를 탈 수 있습니다.\"를 출력\n",
    "* 120cm 보다 작을 경우 \"롤러코스터를 탈 수 없습니다.\"를 출력"
   ]
  },
  {
   "cell_type": "code",
   "execution_count": 8,
   "metadata": {},
   "outputs": [],
   "source": [
    "# 실습 3"
   ]
  },
  {
   "cell_type": "markdown",
   "metadata": {},
   "source": [
    "## 반복문 (for, while)\n",
    "\n",
    "반복문이란 똑같은 명령을 일정 횟수만큼 반복하여 수행하도록 제어하는 명령문입니다.\n",
    "\n",
    "모든 프로그래밍 언어에서 가장 많이 활용되는 `for`문과 `while`문을 활용하여 연습해봅시다."
   ]
  },
  {
   "cell_type": "markdown",
   "metadata": {},
   "source": [
    "### for문"
   ]
  },
  {
   "cell_type": "markdown",
   "metadata": {},
   "source": [
    "<img src=\"./img/반복문_이미지1.png\" />"
   ]
  },
  {
   "cell_type": "code",
   "execution_count": 9,
   "metadata": {},
   "outputs": [
    {
     "name": "stdout",
     "output_type": "stream",
     "text": [
      "안녕하세요!\n",
      "안녕하세요!\n",
      "안녕하세요!\n",
      "안녕하세요!\n",
      "안녕하세요!\n"
     ]
    }
   ],
   "source": [
    "for a in [1,2,3,4,5] : \n",
    "    print('안녕하세요!')"
   ]
  },
  {
   "cell_type": "markdown",
   "metadata": {},
   "source": [
    "<img src ='./img/반복문_이미지2.png' width=500>"
   ]
  },
  {
   "cell_type": "markdown",
   "metadata": {},
   "source": [
    "**반복문이 왜 필요할까?**\n",
    "\n",
    "가장 먼저 1부터 9까지의 숫자를 출력해보면서 비교해봅시다.\n",
    "\n",
    "첫번째로 직접 1부터 9까지의 숫자를 모두 직접 입력하여 출력하였을 때를 봅시다."
   ]
  },
  {
   "cell_type": "code",
   "execution_count": 10,
   "metadata": {},
   "outputs": [
    {
     "name": "stdout",
     "output_type": "stream",
     "text": [
      "1\n",
      "2\n",
      "3\n",
      "4\n",
      "5\n",
      "6\n",
      "7\n",
      "8\n",
      "9\n"
     ]
    }
   ],
   "source": [
    "print(1)\n",
    "print(2)\n",
    "print(3)\n",
    "print(4)\n",
    "print(5)\n",
    "print(6)\n",
    "print(7)\n",
    "print(8)\n",
    "print(9)"
   ]
  },
  {
   "cell_type": "markdown",
   "metadata": {},
   "source": [
    "두번째로 반복문 `for`문을 사용하여 출력하였을 때를 봅시다.\n",
    "\n",
    "여기서 `range()`를 사용하여 숫자의 시작숫자와 종료숫자를 입력하여 좀 더 편하게 작성해봅시다.\n",
    "\n",
    "`range(시작숫자, 종료숫자)`\n",
    "\n",
    "시작숫자가 0일 경우 종료숫자만 작성하여도 됩니다.\n",
    "\n",
    "`range(종료숫자)`"
   ]
  },
  {
   "cell_type": "code",
   "execution_count": 11,
   "metadata": {},
   "outputs": [
    {
     "name": "stdout",
     "output_type": "stream",
     "text": [
      "0\n",
      "1\n",
      "2\n",
      "3\n",
      "4\n",
      "5\n",
      "6\n",
      "7\n",
      "8\n",
      "9\n"
     ]
    }
   ],
   "source": [
    "for i in range(10):\n",
    "  print(i)"
   ]
  },
  {
   "cell_type": "markdown",
   "metadata": {},
   "source": [
    "`for문` 안에 또 다른 `for문`을 작성하여 `2중 for문`을 만들 수도 있습니다."
   ]
  },
  {
   "cell_type": "code",
   "execution_count": 12,
   "metadata": {},
   "outputs": [
    {
     "name": "stdout",
     "output_type": "stream",
     "text": [
      "1 학년  1 반\n",
      "1 학년  2 반\n",
      "1 학년  3 반\n",
      "1 학년  4 반\n",
      "1 학년  5 반\n",
      "---------------------\n",
      "2 학년  1 반\n",
      "2 학년  2 반\n",
      "2 학년  3 반\n",
      "2 학년  4 반\n",
      "2 학년  5 반\n",
      "---------------------\n",
      "3 학년  1 반\n",
      "3 학년  2 반\n",
      "3 학년  3 반\n",
      "3 학년  4 반\n",
      "3 학년  5 반\n",
      "---------------------\n",
      "4 학년  1 반\n",
      "4 학년  2 반\n",
      "4 학년  3 반\n",
      "4 학년  4 반\n",
      "4 학년  5 반\n",
      "---------------------\n",
      "5 학년  1 반\n",
      "5 학년  2 반\n",
      "5 학년  3 반\n",
      "5 학년  4 반\n",
      "5 학년  5 반\n",
      "---------------------\n",
      "6 학년  1 반\n",
      "6 학년  2 반\n",
      "6 학년  3 반\n",
      "6 학년  4 반\n",
      "6 학년  5 반\n",
      "---------------------\n"
     ]
    }
   ],
   "source": [
    "for x in range(1, 7):\n",
    "  for y in range(1, 6):\n",
    "    print(x, \"학년 \", y, \"반\")\n",
    "  print('---------------------')"
   ]
  },
  {
   "cell_type": "markdown",
   "metadata": {},
   "source": [
    "### 실습4 (구구단 출력)\n",
    "\n",
    "`2중 for문`과 `곱셈`을 사용하여 구구단을 2단부터 9단까지 출력하는 코드를 만들어봅시다."
   ]
  },
  {
   "cell_type": "code",
   "execution_count": 13,
   "metadata": {},
   "outputs": [],
   "source": [
    "# 실습4"
   ]
  },
  {
   "cell_type": "markdown",
   "metadata": {},
   "source": [
    "### while문"
   ]
  },
  {
   "cell_type": "markdown",
   "metadata": {},
   "source": [
    "<img src=\"./img/반복문_이미지3.png\" width=300px/>\n",
    "\n",
    "앞에서 배웠던 `for문`이 정해진 횟수만큼 반복하는 것이라면\n",
    "\n",
    "이번에 배울 `while문`은 더 이상은 안될 때까지 반복하는 것입니다.\n",
    "\n",
    "사진을 예로 커피가 나오는 자판기의 경우 커피가 더 이상 없을 경우 커피 머신이 동작을 멈추게 됩니다."
   ]
  },
  {
   "cell_type": "markdown",
   "metadata": {},
   "source": [
    "아래의 코드를 실행하여 `while문`을 이해해봅시다.\n",
    "\n",
    "아래의 코드는 `i`라는 변수에 있는 상수가 `10`이 될 때까지 반복 작업을 수행하는 것입니다."
   ]
  },
  {
   "cell_type": "code",
   "execution_count": 14,
   "metadata": {},
   "outputs": [
    {
     "name": "stdout",
     "output_type": "stream",
     "text": [
      "1\n",
      "2\n",
      "3\n",
      "4\n",
      "5\n",
      "6\n",
      "7\n",
      "8\n",
      "9\n",
      "10\n"
     ]
    }
   ],
   "source": [
    "i = 1\n",
    "while i <= 10:\n",
    "    print(i)\n",
    "    i += 1"
   ]
  },
  {
   "cell_type": "markdown",
   "metadata": {},
   "source": [
    "### 실습5 (열번 찍어 안 넘어가는 나무 없다.)\n",
    "\n",
    "도끼질을 **10번**을 하면 쓰러지는 나무가 있다고 가정합시다.  \n",
    "\n",
    "`while`을 사용하여 나무가 쓰러질 때까지 `🪓`가 출력되도록 해봅시다.\n",
    "\n",
    "또한 나무가 쓰러지면 `🌳`가 출력되도록 해봅시다."
   ]
  },
  {
   "cell_type": "code",
   "execution_count": 15,
   "metadata": {},
   "outputs": [],
   "source": [
    "# 실습 5"
   ]
  }
 ],
 "metadata": {
  "kernelspec": {
   "display_name": "py39",
   "language": "python",
   "name": "python3"
  },
  "language_info": {
   "codemirror_mode": {
    "name": "ipython",
    "version": 3
   },
   "file_extension": ".py",
   "mimetype": "text/x-python",
   "name": "python",
   "nbconvert_exporter": "python",
   "pygments_lexer": "ipython3",
   "version": "3.9.19"
  }
 },
 "nbformat": 4,
 "nbformat_minor": 2
}
